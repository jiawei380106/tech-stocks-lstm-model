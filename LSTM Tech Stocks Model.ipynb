{
 "cells": [
  {
   "cell_type": "markdown",
   "metadata": {},
   "source": [
    "# Tech Stocks Time Series M/L Model using TensorFlow\n",
    "### by Lim Jia Xiang"
   ]
  },
  {
   "cell_type": "markdown",
   "metadata": {},
   "source": [
    "#### Import required libraries"
   ]
  },
  {
   "cell_type": "code",
   "execution_count": 1,
   "metadata": {},
   "outputs": [
    {
     "name": "stderr",
     "output_type": "stream",
     "text": [
      "Using TensorFlow backend.\n"
     ]
    }
   ],
   "source": [
    "import pandas as pd\n",
    "from pandas.tools.plotting import autocorrelation_plot\n",
    "from pandas.tools.plotting import scatter_matrix\n",
    "from sklearn import preprocessing\n",
    "from sklearn.metrics import confusion_matrix\n",
    "from sklearn.metrics import mean_squared_error\n",
    "from sklearn.metrics import accuracy_score\n",
    "from sklearn.metrics import f1_score\n",
    "from sklearn.metrics import classification_report\n",
    "from math import sqrt\n",
    "\n",
    "import keras as keras\n",
    "from keras.models import Sequential\n",
    "from keras.layers import Dense, Activation, LSTM, Dropout\n",
    "from keras.layers.advanced_activations import LeakyReLU\n",
    "\n",
    "import numpy as np\n",
    "\n",
    "import matplotlib.pyplot as plt"
   ]
  },
  {
   "cell_type": "code",
   "execution_count": 2,
   "metadata": {
    "collapsed": true
   },
   "outputs": [],
   "source": [
    "google = pd.read_csv(r'google.csv')\n",
    "sony = pd.read_csv(r'sony.csv')\n",
    "tesla = pd.read_csv(r'tesla.csv')\n",
    "alibaba = pd.read_csv(r'alibaba.csv')\n",
    "apple = pd.read_csv(r'apple.csv')\n",
    "baidu = pd.read_csv(r'baidu.csv')\n",
    "microsoft = pd.read_csv(r'microsoft.csv')"
   ]
  },
  {
   "cell_type": "code",
   "execution_count": 3,
   "metadata": {
    "collapsed": true
   },
   "outputs": [],
   "source": [
    "closing_data = pd.DataFrame()\n",
    "\n",
    "closing_data['google_close'] = google['Close']\n",
    "closing_data['sony_close'] = sony['Close']\n",
    "closing_data['tesla_close'] = tesla['Close']\n",
    "closing_data['alibaba_close'] = alibaba['Close']\n",
    "closing_data['apple_close'] = apple['Close']\n",
    "closing_data['baidu_close'] = baidu['Close']\n",
    "closing_data['microsoft_close'] = microsoft['Close']\n",
    "\n",
    "closing_data = closing_data.fillna(method='ffill')\n",
    "\n",
    "closing_data=closing_data.sort_index(axis=0,level=None,ascending=True)"
   ]
  },
  {
   "cell_type": "code",
   "execution_count": 4,
   "metadata": {
    "scrolled": true
   },
   "outputs": [
    {
     "data": {
      "text/html": [
       "<div>\n",
       "<style>\n",
       "    .dataframe thead tr:only-child th {\n",
       "        text-align: right;\n",
       "    }\n",
       "\n",
       "    .dataframe thead th {\n",
       "        text-align: left;\n",
       "    }\n",
       "\n",
       "    .dataframe tbody tr th {\n",
       "        vertical-align: top;\n",
       "    }\n",
       "</style>\n",
       "<table border=\"1\" class=\"dataframe\">\n",
       "  <thead>\n",
       "    <tr style=\"text-align: right;\">\n",
       "      <th></th>\n",
       "      <th>google_close</th>\n",
       "    </tr>\n",
       "  </thead>\n",
       "  <tbody>\n",
       "    <tr>\n",
       "      <th>0</th>\n",
       "      <td>594.890015</td>\n",
       "    </tr>\n",
       "    <tr>\n",
       "      <th>1</th>\n",
       "      <td>594.969971</td>\n",
       "    </tr>\n",
       "    <tr>\n",
       "      <th>2</th>\n",
       "      <td>608.419983</td>\n",
       "    </tr>\n",
       "    <tr>\n",
       "      <th>3</th>\n",
       "      <td>611.289978</td>\n",
       "    </tr>\n",
       "    <tr>\n",
       "      <th>4</th>\n",
       "      <td>626.909973</td>\n",
       "    </tr>\n",
       "  </tbody>\n",
       "</table>\n",
       "</div>"
      ],
      "text/plain": [
       "   google_close\n",
       "0    594.890015\n",
       "1    594.969971\n",
       "2    608.419983\n",
       "3    611.289978\n",
       "4    626.909973"
      ]
     },
     "execution_count": 4,
     "metadata": {},
     "output_type": "execute_result"
    }
   ],
   "source": [
    "closing_data.head()"
   ]
  },
  {
   "cell_type": "code",
   "execution_count": 5,
   "metadata": {
    "scrolled": true
   },
   "outputs": [
    {
     "name": "stdout",
     "output_type": "stream",
     "text": [
      "<class 'pandas.core.frame.DataFrame'>\n",
      "RangeIndex: 511 entries, 0 to 510\n",
      "Data columns (total 1 columns):\n",
      "google_close    511 non-null float64\n",
      "dtypes: float64(1)\n",
      "memory usage: 4.1 KB\n"
     ]
    }
   ],
   "source": [
    "closing_data.info()"
   ]
  },
  {
   "cell_type": "code",
   "execution_count": 6,
   "metadata": {
    "scrolled": false
   },
   "outputs": [
    {
     "name": "stdout",
     "output_type": "stream",
     "text": [
      "          0         1         2         3         4         5         6\n",
      "0  0.000000  0.000000  0.000000  0.000000  0.000000  0.006705  0.018228\n",
      "1  0.000206  0.034602  0.007648  0.041945  0.040811  0.018228  0.009288\n",
      "2  0.034800  0.041985  0.049272  0.081044  0.051938  0.009288  0.000000\n",
      "3  0.042182  0.082169  0.088072  0.091705  0.043305  0.000000  0.012917\n",
      "4  0.082358  0.119627  0.098652  0.083434  0.034336  0.012917  0.021798\n"
     ]
    }
   ],
   "source": [
    "# convert series to supervised learning\n",
    "def series_to_supervised(data, n_in=1, n_out=1, dropnan=True):\n",
    "    n_vars = 1 if type(data) is list else data.shape[1]\n",
    "    df = pd.DataFrame(data)\n",
    "    cols, names = list(), list()\n",
    "    # input sequence (t-n, ... t-1)\n",
    "    for i in range(n_in, 0, -1):\n",
    "        cols.append(df.shift(i))\n",
    "        names += [('var%d(t-%d)' % (j+1, i)) for j in range(n_vars)]\n",
    "    # forecast sequence (t, t+1, ... t+n)\n",
    "    for i in range(0, n_out):\n",
    "        cols.append(df.shift(-i))\n",
    "        if i == 0:\n",
    "            names += [('var%d(t)' % (j+1)) for j in range(n_vars)]\n",
    "        else:\n",
    "            names += [('var%d(t+%d)' % (j+1, i)) for j in range(n_vars)]\n",
    "    # put it all together\n",
    "    agg = pd.concat(cols, axis=1)\n",
    "    agg.columns = names\n",
    "    # drop rows with NaN values\n",
    "    if dropnan:\n",
    "        agg.dropna(inplace=True)\n",
    "    return agg\n",
    "\n",
    "values = closing_data.values\n",
    "values = values.astype('float32')\n",
    "\n",
    "# normalize features\n",
    "#scaler = preprocessing.MinMaxScaler(feature_range=(0, 1))\n",
    "#scaled = scaler.fit_transform(values)\n",
    "\n",
    "# frame as supervised learning\n",
    "#reframed = series_to_supervised(scaled, 3, 1)\n",
    "\n",
    "#reframed.drop(reframed.columns[-6:], axis=1, inplace=True)\n",
    "\n",
    "#print(reframed.head())\n",
    "\n",
    "# frame as supervised learning\n",
    "reframed = series_to_supervised(values, 7, 1)\n",
    "reframed.drop(reframed.columns[-1:], axis=1, inplace=True)\n",
    "\n",
    "# normalise features by transforming values using MinMaxScaler so that all values are between 0 and 1 inclusive\n",
    "scaler = preprocessing.MinMaxScaler(feature_range=(0, 1))\n",
    "scaled = pd.DataFrame(scaler.fit_transform(reframed.values))\n",
    "\n",
    "print(scaled.head())"
   ]
  },
  {
   "cell_type": "code",
   "execution_count": 27,
   "metadata": {
    "scrolled": false
   },
   "outputs": [
    {
     "name": "stdout",
     "output_type": "stream",
     "text": [
      "(403, 1, 6) (403,) (101, 1, 6) (101,)\n"
     ]
    }
   ],
   "source": [
    "# split into train and test sets\n",
    "#values = reframed.values\n",
    "values = scaled.values\n",
    "\n",
    "# getting the size of the training set (80%)\n",
    "train_size = int(len(scaled)*0.8)\n",
    "train = values[:train_size, :]\n",
    "test = values[train_size:, :]\n",
    "\n",
    "# split into input and outputs\n",
    "train_X, train_y = train[:, :-1], train[:, -1]\n",
    "test_X, test_y = test[:, :-1], test[:, -1]\n",
    "\n",
    "# reshape input to be 3D [samples, timesteps, features], change to a 3D Matrix of (# of examples, # of previous day considered, # of features)\n",
    "train_X = train_X.reshape((train_X.shape[0], 1 , train_X.shape[1]))\n",
    "test_X = test_X.reshape((test_X.shape[0], 1, test_X.shape[1]))\n",
    "print(train_X.shape, train_y.shape, test_X.shape, test_y.shape)"
   ]
  },
  {
   "cell_type": "markdown",
   "metadata": {},
   "source": [
    "Building the LSTM model with 2 layers of 100 neurons each using ReLU activation function and adam optimiser.\n",
    "#### The loss function is mean squared errors.\n",
    "#### 200 Epochs with 1 Batch Size, Meaning there will be 384 batches per epoch"
   ]
  },
  {
   "cell_type": "code",
   "execution_count": 28,
   "metadata": {
    "scrolled": true
   },
   "outputs": [
    {
     "name": "stdout",
     "output_type": "stream",
     "text": [
      "Train on 403 samples, validate on 101 samples\n",
      "Epoch 1/50\n",
      "3s - loss: 0.0045 - val_loss: 0.0231\n",
      "Epoch 2/50\n",
      "1s - loss: 0.0019 - val_loss: 0.0287\n",
      "Epoch 3/50\n",
      "1s - loss: 0.0018 - val_loss: 0.0307\n",
      "Epoch 4/50\n",
      "1s - loss: 0.0017 - val_loss: 0.0239\n",
      "Epoch 5/50\n",
      "1s - loss: 0.0016 - val_loss: 0.0093\n",
      "Epoch 6/50\n",
      "1s - loss: 0.0015 - val_loss: 0.0161\n",
      "Epoch 7/50\n",
      "2s - loss: 0.0014 - val_loss: 0.0180\n",
      "Epoch 8/50\n",
      "2s - loss: 0.0014 - val_loss: 0.0198\n",
      "Epoch 9/50\n",
      "1s - loss: 0.0014 - val_loss: 0.0162\n",
      "Epoch 10/50\n",
      "1s - loss: 0.0013 - val_loss: 0.0122\n",
      "Epoch 11/50\n",
      "1s - loss: 0.0013 - val_loss: 0.0097\n",
      "Epoch 12/50\n",
      "1s - loss: 0.0012 - val_loss: 0.0107\n",
      "Epoch 13/50\n",
      "1s - loss: 0.0012 - val_loss: 0.0100\n",
      "Epoch 14/50\n",
      "1s - loss: 0.0012 - val_loss: 0.0107\n",
      "Epoch 15/50\n",
      "2s - loss: 0.0011 - val_loss: 0.0069\n",
      "Epoch 16/50\n",
      "2s - loss: 0.0011 - val_loss: 0.0073\n",
      "Epoch 17/50\n",
      "1s - loss: 0.0011 - val_loss: 0.0102\n",
      "Epoch 18/50\n",
      "1s - loss: 0.0011 - val_loss: 0.0072\n",
      "Epoch 19/50\n",
      "1s - loss: 0.0011 - val_loss: 0.0070\n",
      "Epoch 20/50\n",
      "1s - loss: 0.0010 - val_loss: 0.0047\n",
      "Epoch 21/50\n",
      "1s - loss: 0.0010 - val_loss: 0.0044\n",
      "Epoch 22/50\n",
      "1s - loss: 0.0010 - val_loss: 0.0056\n",
      "Epoch 23/50\n",
      "1s - loss: 0.0010 - val_loss: 0.0075\n",
      "Epoch 24/50\n",
      "2s - loss: 9.7138e-04 - val_loss: 0.0066\n",
      "Epoch 25/50\n",
      "1s - loss: 9.8456e-04 - val_loss: 0.0057\n",
      "Epoch 26/50\n",
      "1s - loss: 9.6737e-04 - val_loss: 0.0046\n",
      "Epoch 27/50\n",
      "1s - loss: 9.5633e-04 - val_loss: 0.0066\n",
      "Epoch 28/50\n",
      "1s - loss: 9.3090e-04 - val_loss: 0.0051\n",
      "Epoch 29/50\n",
      "1s - loss: 9.1372e-04 - val_loss: 0.0046\n",
      "Epoch 30/50\n",
      "1s - loss: 9.0445e-04 - val_loss: 0.0093\n",
      "Epoch 31/50\n",
      "1s - loss: 8.9968e-04 - val_loss: 0.0053\n",
      "Epoch 32/50\n",
      "2s - loss: 8.9601e-04 - val_loss: 0.0050\n",
      "Epoch 33/50\n",
      "2s - loss: 8.7433e-04 - val_loss: 0.0050\n",
      "Epoch 34/50\n",
      "2s - loss: 8.8107e-04 - val_loss: 0.0053\n",
      "Epoch 35/50\n",
      "2s - loss: 8.6063e-04 - val_loss: 0.0050\n",
      "Epoch 36/50\n",
      "2s - loss: 8.5421e-04 - val_loss: 0.0047\n",
      "Epoch 37/50\n",
      "1s - loss: 8.5009e-04 - val_loss: 0.0043\n",
      "Epoch 38/50\n",
      "1s - loss: 8.4111e-04 - val_loss: 0.0051\n",
      "Epoch 39/50\n",
      "2s - loss: 8.3628e-04 - val_loss: 0.0036\n",
      "Epoch 40/50\n",
      "2s - loss: 8.3439e-04 - val_loss: 0.0040\n",
      "Epoch 41/50\n",
      "1s - loss: 8.3297e-04 - val_loss: 0.0035\n",
      "Epoch 42/50\n",
      "1s - loss: 8.2663e-04 - val_loss: 0.0042\n",
      "Epoch 43/50\n",
      "1s - loss: 8.1061e-04 - val_loss: 0.0048\n",
      "Epoch 44/50\n",
      "1s - loss: 8.1508e-04 - val_loss: 0.0041\n",
      "Epoch 45/50\n",
      "1s - loss: 8.0569e-04 - val_loss: 0.0037\n",
      "Epoch 46/50\n",
      "1s - loss: 8.0441e-04 - val_loss: 0.0037\n",
      "Epoch 47/50\n",
      "1s - loss: 7.9881e-04 - val_loss: 0.0043\n",
      "Epoch 48/50\n",
      "2s - loss: 7.9691e-04 - val_loss: 0.0030\n",
      "Epoch 49/50\n",
      "1s - loss: 7.7610e-04 - val_loss: 0.0027\n",
      "Epoch 50/50\n",
      "1s - loss: 7.8819e-04 - val_loss: 0.0035\n"
     ]
    }
   ],
   "source": [
    "# design model\n",
    "model = Sequential()\n",
    "\n",
    "model.add(LSTM(100, activation='relu', input_shape=(train_X.shape[1], train_X.shape[2]), return_sequences=True))\n",
    "\n",
    "model.add(LSTM(100, activation='relu', input_shape=(train_X.shape[1], train_X.shape[2])))\n",
    "\n",
    "model.add(Dense(1))\n",
    "\n",
    "\n",
    "model.compile(loss='mse', optimizer='Adagrad')\n",
    "\n",
    "# train model\n",
    "techmodel = model.fit(train_X, train_y, epochs=50, batch_size=1, validation_data=(test_X, test_y), verbose=2)"
   ]
  },
  {
   "cell_type": "code",
   "execution_count": 29,
   "metadata": {
    "scrolled": true
   },
   "outputs": [
    {
     "data": {
      "image/png": "[encoded data removed]",
      "text/plain": [
       "<matplotlib.figure.Figure at 0x1a4351f86a0>"
      ]
     },
     "metadata": {},
     "output_type": "display_data"
    }
   ],
   "source": [
    "# plot history\n",
    "plt.plot(techmodel.history['loss'], label='train')\n",
    "plt.plot(techmodel.history['val_loss'], label='test')\n",
    "plt.legend()\n",
    "plt.show()"
   ]
  },
  {
   "cell_type": "markdown",
   "metadata": {},
   "source": [
    "Perform the prediction using the test data, inverse transform the data back into its original values and calculate the mean squared errors"
   ]
  },
  {
   "cell_type": "code",
   "execution_count": 31,
   "metadata": {
    "scrolled": true
   },
   "outputs": [
    {
     "name": "stdout",
     "output_type": "stream",
     "text": [
      "Test RMSE: 22.924\n"
     ]
    }
   ],
   "source": [
    "# make a prediction\n",
    "yhat = model.predict(test_X)\n",
    "test_X = test_X.reshape((test_X.shape[0], test_X.shape[2]))\n",
    "\n",
    "# invert scaling for forecast\n",
    "inv_yhat = np.concatenate((yhat, test_X), axis=1)\n",
    "inv_yhat = scaler.inverse_transform(inv_yhat)\n",
    "inv_yhat = inv_yhat[:,0]\n",
    "\n",
    "# invert scaling for actual\n",
    "test_y = test_y.reshape((len(test_y), 1))\n",
    "inv_y = np.concatenate((test_y, test_X), axis=1)\n",
    "inv_y = scaler.inverse_transform(inv_y)\n",
    "inv_y = inv_y[:,0]\n",
    "\n",
    "# calculate RMSE\n",
    "rmse = sqrt(mean_squared_error(inv_y, inv_yhat))\n",
    "print('Test RMSE: %.3f' % rmse)"
   ]
  },
  {
   "cell_type": "markdown",
   "metadata": {},
   "source": [
    "Obtain the plot to see how predicted data compare with expected data"
   ]
  },
  {
   "cell_type": "code",
   "execution_count": 32,
   "metadata": {},
   "outputs": [
    {
     "data": {
      "image/png": "[encoded data removed]",
      "text/plain": [
       "<matplotlib.figure.Figure at 0x1a435ebdcf8>"
      ]
     },
     "metadata": {},
     "output_type": "display_data"
    }
   ],
   "source": [
    "plt.plot(inv_y, label=\"expected\")\n",
    "plt.plot(inv_yhat, label=\"predicted\")\n",
    "plt.legend()\n",
    "plt.show()"
   ]
  },
  {
   "cell_type": "markdown",
   "metadata": {},
   "source": [
    "To see how predicted data differ from actual data over time"
   ]
  },
  {
   "cell_type": "code",
   "execution_count": 33,
   "metadata": {},
   "outputs": [
    {
     "data": {
      "image/png": "[encoded data removed]",
      "text/plain": [
       "<matplotlib.figure.Figure at 0x1a43522f9b0>"
      ]
     },
     "metadata": {},
     "output_type": "display_data"
    }
   ],
   "source": [
    "diff = inv_yhat-inv_y\n",
    "plt.plot(diff, label='difference')\n",
    "plt.legend()\n",
    "plt.show()"
   ]
  },
  {
   "cell_type": "markdown",
   "metadata": {},
   "source": [
    "Convert predicted y values into classifiable classes\n",
    "If stock rises as predicted and stock falls as predicted then they are considered true positives and true negatives respectively."
   ]
  },
  {
   "cell_type": "code",
   "execution_count": 34,
   "metadata": {
    "collapsed": true
   },
   "outputs": [],
   "source": [
    "predicted_y = inv_yhat[1:]\n",
    "shifted_predicted_y = inv_yhat[:-1]\n",
    "actual_y = inv_y[1:]\n",
    "shifted_y = inv_y[:-1]\n",
    "\n",
    "predict_diff = predicted_y - shifted_predicted_y\n",
    "actual_diff = actual_y - shifted_y\n",
    "\n",
    "predict_arr = ['up' if x >= 0 else 'down' for x in predict_diff]\n",
    "actual_arr = ['up' if x >= 0 else 'down' for x in actual_diff]"
   ]
  },
  {
   "cell_type": "markdown",
   "metadata": {},
   "source": [
    "Print out the confusion matrix"
   ]
  },
  {
   "cell_type": "code",
   "execution_count": 35,
   "metadata": {},
   "outputs": [
    {
     "name": "stdout",
     "output_type": "stream",
     "text": [
      "36 19 22 23\n"
     ]
    }
   ],
   "source": [
    "tn, fp, fn, tp = confusion_matrix(actual_arr, predict_arr, labels=['up', 'down']).ravel()\n",
    "#print(confusion_matrix(actual_arr, predict_arr, labels=['up', 'down']))\n",
    "print(tn, fp, fn, tp)"
   ]
  },
  {
   "cell_type": "markdown",
   "metadata": {},
   "source": [
    "Accuracy score from an investor's POV"
   ]
  },
  {
   "cell_type": "code",
   "execution_count": 36,
   "metadata": {},
   "outputs": [
    {
     "name": "stdout",
     "output_type": "stream",
     "text": [
      "0.59\n"
     ]
    }
   ],
   "source": [
    "# focusing on minimising false positives (reducing the probability of stocks predicted that will rise but did not rise)\n",
    "# hence false negatives is taken into account in the tabulation as false negatives will not be purchased as they are predicted to fall\n",
    "accuracy = (tp+tn)/(tp+tn+fp+fn)\n",
    "print(accuracy)"
   ]
  }
 ],
 "metadata": {
  "kernelspec": {
   "display_name": "Python 3",
   "language": "python",
   "name": "python3"
  },
  "language_info": {
   "codemirror_mode": {
    "name": "ipython",
    "version": 3
   },
   "file_extension": ".py",
   "mimetype": "text/x-python",
   "name": "python",
   "nbconvert_exporter": "python",
   "pygments_lexer": "ipython3",
   "version": "3.6.2"
  }
 },
 "nbformat": 4,
 "nbformat_minor": 2
}
